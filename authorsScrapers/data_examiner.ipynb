{
 "cells": [
  {
   "cell_type": "markdown",
   "id": "7b68e293",
   "metadata": {},
   "source": [
    "Just examining and understanding the data"
   ]
  },
  {
   "cell_type": "code",
   "execution_count": 1,
   "id": "d96f9fc9",
   "metadata": {},
   "outputs": [],
   "source": [
    "import pandas as pd"
   ]
  },
  {
   "cell_type": "code",
   "execution_count": 2,
   "id": "2fdbcfcd",
   "metadata": {},
   "outputs": [],
   "source": [
    "df = pd.read_csv(\"all_authors.csv\")"
   ]
  },
  {
   "cell_type": "markdown",
   "id": "9a15225c",
   "metadata": {},
   "source": [
    "First we check the average number of authors per publisher"
   ]
  },
  {
   "cell_type": "code",
   "execution_count": 4,
   "id": "38e89945",
   "metadata": {},
   "outputs": [
    {
     "data": {
      "text/html": [
       "<div>\n",
       "<style scoped>\n",
       "    .dataframe tbody tr th:only-of-type {\n",
       "        vertical-align: middle;\n",
       "    }\n",
       "\n",
       "    .dataframe tbody tr th {\n",
       "        vertical-align: top;\n",
       "    }\n",
       "\n",
       "    .dataframe thead th {\n",
       "        text-align: right;\n",
       "    }\n",
       "</style>\n",
       "<table border=\"1\" class=\"dataframe\">\n",
       "  <thead>\n",
       "    <tr style=\"text-align: right;\">\n",
       "      <th></th>\n",
       "      <th>Publisher</th>\n",
       "      <th>Unique_Authors</th>\n",
       "    </tr>\n",
       "  </thead>\n",
       "  <tbody>\n",
       "    <tr>\n",
       "      <th>0</th>\n",
       "      <td>2Leaf Press</td>\n",
       "      <td>32</td>\n",
       "    </tr>\n",
       "    <tr>\n",
       "      <th>1</th>\n",
       "      <td>39 West Press</td>\n",
       "      <td>21</td>\n",
       "    </tr>\n",
       "    <tr>\n",
       "      <th>2</th>\n",
       "      <td>47North</td>\n",
       "      <td>29</td>\n",
       "    </tr>\n",
       "    <tr>\n",
       "      <th>3</th>\n",
       "      <td>5 Prince Publishing</td>\n",
       "      <td>30</td>\n",
       "    </tr>\n",
       "    <tr>\n",
       "      <th>4</th>\n",
       "      <td>A BEKA Books</td>\n",
       "      <td>29</td>\n",
       "    </tr>\n",
       "    <tr>\n",
       "      <th>...</th>\n",
       "      <td>...</td>\n",
       "      <td>...</td>\n",
       "    </tr>\n",
       "    <tr>\n",
       "      <th>607</th>\n",
       "      <td>bonbon Kids Magazine</td>\n",
       "      <td>25</td>\n",
       "    </tr>\n",
       "    <tr>\n",
       "      <th>608</th>\n",
       "      <td>eBook Voice</td>\n",
       "      <td>26</td>\n",
       "    </tr>\n",
       "    <tr>\n",
       "      <th>609</th>\n",
       "      <td>iLAB America Inc.</td>\n",
       "      <td>13</td>\n",
       "    </tr>\n",
       "    <tr>\n",
       "      <th>610</th>\n",
       "      <td>plusDA Publishers</td>\n",
       "      <td>12</td>\n",
       "    </tr>\n",
       "    <tr>\n",
       "      <th>611</th>\n",
       "      <td>publisher.amplecare.com</td>\n",
       "      <td>1</td>\n",
       "    </tr>\n",
       "  </tbody>\n",
       "</table>\n",
       "<p>612 rows × 2 columns</p>\n",
       "</div>"
      ],
      "text/plain": [
       "                   Publisher  Unique_Authors\n",
       "0                2Leaf Press              32\n",
       "1              39 West Press              21\n",
       "2                    47North              29\n",
       "3        5 Prince Publishing              30\n",
       "4               A BEKA Books              29\n",
       "..                       ...             ...\n",
       "607     bonbon Kids Magazine              25\n",
       "608              eBook Voice              26\n",
       "609        iLAB America Inc.              13\n",
       "610        plusDA Publishers              12\n",
       "611  publisher.amplecare.com               1\n",
       "\n",
       "[612 rows x 2 columns]"
      ]
     },
     "execution_count": 4,
     "metadata": {},
     "output_type": "execute_result"
    }
   ],
   "source": [
    "# Group by publisher and count unique authors\n",
    "authors_per_publisher = df.groupby(\"Publisher\")[\"Author\"].nunique().reset_index(name=\"Unique_Authors\")\n",
    "authors_per_publisher\n"
   ]
  },
  {
   "cell_type": "markdown",
   "id": "ea9e4570",
   "metadata": {},
   "source": [
    "Here we find that the average number of authors is 29.31"
   ]
  },
  {
   "cell_type": "code",
   "execution_count": 5,
   "id": "8f89df78",
   "metadata": {},
   "outputs": [
    {
     "name": "stdout",
     "output_type": "stream",
     "text": [
      "Average number of authors per publisher: 29.31\n"
     ]
    }
   ],
   "source": [
    "# Calculate the average number of authors across all publishers\n",
    "average_authors = authors_per_publisher[\"Unique_Authors\"].mean()\n",
    "print(f\"Average number of authors per publisher: {average_authors:.2f}\")\n"
   ]
  },
  {
   "cell_type": "markdown",
   "id": "ee0eda4d",
   "metadata": {},
   "source": [
    "Now we want to check if any publishers are missing from the list so we compare to the publishers.csv file"
   ]
  },
  {
   "cell_type": "code",
   "execution_count": 6,
   "id": "46ac1981",
   "metadata": {},
   "outputs": [],
   "source": [
    "all_publishers_df = pd.read_csv(\"publishers.csv\")\n"
   ]
  },
  {
   "cell_type": "code",
   "execution_count": 7,
   "id": "8a6eec33",
   "metadata": {},
   "outputs": [],
   "source": [
    "# Get unique publishers from each\n",
    "publishers_in_books = set(df[\"Publisher\"].dropna().unique())\n",
    "publishers_in_list = set(all_publishers_df[\"Publisher\"].dropna().unique())\n"
   ]
  },
  {
   "cell_type": "markdown",
   "id": "2fcadf75",
   "metadata": {},
   "source": [
    "Here we determine that 13 publishers are missing, meaning that we were not able to gather any data on these 13."
   ]
  },
  {
   "cell_type": "code",
   "execution_count": 8,
   "id": "3544398e",
   "metadata": {},
   "outputs": [
    {
     "name": "stdout",
     "output_type": "stream",
     "text": [
      "Missing publishers count: 13\n"
     ]
    },
    {
     "data": {
      "text/plain": [
       "['Aardvark to Zucchini Press',\n",
       " 'Aojirouma Publishing',\n",
       " 'Books Launch Vast New Possibilities (BLVNP) Incorporated',\n",
       " 'DYSTENIUM LLC - Publishing for The Third Millennium™',\n",
       " 'Feenixx Publishing, Inc.',\n",
       " 'FutureClaw Magazine',\n",
       " 'KugaliInk',\n",
       " 'Mediaplanet Inc.',\n",
       " 'ModoComm Communications',\n",
       " 'Norman Maine Publishing']"
      ]
     },
     "execution_count": 8,
     "metadata": {},
     "output_type": "execute_result"
    }
   ],
   "source": [
    "# Publishers in the full list but missing from the books dataset\n",
    "missing_publishers = publishers_in_list - publishers_in_books\n",
    "\n",
    "# Show results\n",
    "print(f\"Missing publishers count: {len(missing_publishers)}\")\n",
    "missing_publishers = sorted(missing_publishers)\n",
    "missing_publishers[:10]  # Show first 10 as a sample\n"
   ]
  },
  {
   "cell_type": "markdown",
   "id": "c50b9999",
   "metadata": {},
   "source": [
    "That leaves us with an average of 29.31 authors for 612 publishers"
   ]
  }
 ],
 "metadata": {
  "kernelspec": {
   "display_name": ".venv",
   "language": "python",
   "name": "python3"
  },
  "language_info": {
   "codemirror_mode": {
    "name": "ipython",
    "version": 3
   },
   "file_extension": ".py",
   "mimetype": "text/x-python",
   "name": "python",
   "nbconvert_exporter": "python",
   "pygments_lexer": "ipython3",
   "version": "3.10.12"
  }
 },
 "nbformat": 4,
 "nbformat_minor": 5
}
